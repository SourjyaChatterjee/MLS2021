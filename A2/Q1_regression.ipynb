{
 "cells": [
  {
   "cell_type": "code",
   "execution_count": 89,
   "metadata": {},
   "outputs": [],
   "source": [
    "# import necessary modules\n",
    "import numpy as np\n",
    "import pandas as pd\n",
    "import matplotlib.pyplot as plt\n",
    "import house_sales_data as hsd\n",
    "from sklearn.model_selection import train_test_split\n",
    "from sklearn.linear_model import LinearRegression"
   ]
  },
  {
   "cell_type": "code",
   "execution_count": 51,
   "metadata": {},
   "outputs": [
    {
     "name": "stdout",
     "output_type": "stream",
     "text": [
      "dict_keys(['price', 'area', 'beds', 'baths', 'condo', 'location'])\n"
     ]
    }
   ],
   "source": [
    "## Sacramento house price data; load\n",
    "data = hsd.house_sales_data() \n",
    "print(data.keys())\n",
    "\n",
    "## Get the target (i.e., price) and two features\n",
    "price = data['price']\n",
    "area = data['area']\n",
    "beds = data['beds']"
   ]
  },
  {
   "cell_type": "code",
   "execution_count": 52,
   "metadata": {},
   "outputs": [],
   "source": [
    "# Implement gradient descent (NOT SGD, just simple GD!)\n",
    "def gradient_descent(X, y, max_iteration, learning_rate):\n",
    "    m, n = X.shape\n",
    "    theta = np.zeros(n)\n",
    "    costs = np.zeros(max_iteration)\n",
    "    # now complete ...\n",
    "    alpha = learning_rate         \n",
    "    for t in range(max_iteration):\n",
    "        grad = np.zeros(n)\n",
    "        for i in range(m):\n",
    "            y_pred = X[i] @ theta\n",
    "            costs[t] += 1/m * (y_pred - y[i])**2\n",
    "            for j in range(n):\n",
    "                grad[j] += 1/m * 2 * (y_pred - y[i])*X[i,j]\n",
    "        theta -= alpha * grad\n",
    "    return theta, costs "
   ]
  },
  {
   "cell_type": "code",
   "execution_count": 53,
   "metadata": {},
   "outputs": [],
   "source": [
    "# Normalize data \n",
    "def normalize_data(X, y, normalize_cols):\n",
    "    min_X = X[:,normalize_cols].min(axis=0)\n",
    "    max_X = X[:,normalize_cols].max(axis=0)\n",
    "    min_y = y.min()\n",
    "    max_y = y.max()\n",
    "    X[:,normalize_cols] = (X[:,normalize_cols] - min_X) / (max_X - min_X)\n",
    "    y[:] = (y - min_y) / (max_y - min_y)\n",
    "    \n",
    "    return X,y,min_X, max_X, min_y, max_y"
   ]
  },
  {
   "cell_type": "code",
   "execution_count": 54,
   "metadata": {},
   "outputs": [],
   "source": [
    "# Implement an evaluation metric for regression\n",
    "def evaluation_metric(y,y_hat):\n",
    "    mse = sum((y-y_hat)**2)\n",
    "    return mse"
   ]
  },
  {
   "cell_type": "code",
   "execution_count": 55,
   "metadata": {},
   "outputs": [],
   "source": [
    "# Prepare data this way\n",
    "X_train = np.hstack((area[:,np.newaxis], beds[:,np.newaxis], np.ones(area.shape[0])[:,np.newaxis]))\n",
    "y_train = price\n",
    "X, y, min_X, max_X, min_y, max_y = normalize_data(X_train, y_train, [True, True, False])\n",
    "X_train, X_test, y_train, y_test = train_test_split(X, y, test_size=0.2, random_state=42)"
   ]
  },
  {
   "cell_type": "code",
   "execution_count": 56,
   "metadata": {},
   "outputs": [],
   "source": [
    "# call gradient descent and fine-tune your learning rate\n",
    "iters = 1001\n",
    "alpha = 0.1\n",
    "theta , cost = gradient_descent(X_train, y_train, iters, alpha)"
   ]
  },
  {
   "cell_type": "code",
   "execution_count": 64,
   "metadata": {},
   "outputs": [
    {
     "data": {
      "text/plain": [
       "[2, 4, 6, 8]"
      ]
     },
     "execution_count": 64,
     "metadata": {},
     "output_type": "execute_result"
    }
   ],
   "source": [
    "a=range(2,10,2)\n",
    "list(a)"
   ]
  },
  {
   "cell_type": "code",
   "execution_count": 65,
   "metadata": {},
   "outputs": [
    {
     "data": {
      "text/plain": [
       "[<matplotlib.lines.Line2D at 0x7fa9f7652ac0>]"
      ]
     },
     "execution_count": 65,
     "metadata": {},
     "output_type": "execute_result"
    },
    {
     "data": {
      "image/png": "[encoded data removed]",
      "text/plain": [
       "<Figure size 432x288 with 1 Axes>"
      ]
     },
     "metadata": {
      "needs_background": "light"
     },
     "output_type": "display_data"
    }
   ],
   "source": [
    "# plot cost vs iterations \n",
    "# note gradient descent return costs for all iterations\n",
    "plt.plot(range(len(cost)),cost,'r-')"
   ]
  },
  {
   "cell_type": "code",
   "execution_count": 74,
   "metadata": {},
   "outputs": [
    {
     "name": "stdout",
     "output_type": "stream",
     "text": [
      "evaluation metric is 2.0158020535548684\n",
      "the values of evaluation metric is  [2.1496909180963883, 2.015937673167331, 1.975929966364449, 1.9624053800274257]\n"
     ]
    },
    {
     "data": {
      "text/plain": [
       "[<matplotlib.lines.Line2D at 0x7fa9f76a7fd0>]"
      ]
     },
     "execution_count": 74,
     "metadata": {},
     "output_type": "execute_result"
    },
    {
     "data": {
      "image/png": "[encoded data removed]",
      "text/plain": [
       "<Figure size 432x288 with 1 Axes>"
      ]
     },
     "metadata": {
      "needs_background": "light"
     },
     "output_type": "display_data"
    }
   ],
   "source": [
    "# print evaluation metric for test set while \n",
    "y_pred = X_test@theta \n",
    "print('evaluation metric is' , evaluation_metric(y_test,y_pred))\n",
    " \n",
    "# changing max_iteration from 500 to 2000\n",
    "evl_mrt=[]\n",
    "for max_iteration in list(range(500 , 2001 , 500)):\n",
    "    tht , err = gradient_descent(X_train, y_train, max_iteration, 0.1)\n",
    "    y_prd = X_test@tht\n",
    "    evl_mrt.append(evaluation_metric(y_test,y_prd))\n",
    "# Note the best value of evaluation metric you get\n",
    "print('the values of evaluation metric is ',evl_mrt)\n",
    "plt.plot(evl_mrt)"
   ]
  },
  {
   "cell_type": "code",
   "execution_count": 77,
   "metadata": {},
   "outputs": [],
   "source": [
    "#best evaluated value\n",
    "best_val=evl_mrt[-1]"
   ]
  },
  {
   "cell_type": "code",
   "execution_count": 86,
   "metadata": {},
   "outputs": [
    {
     "name": "stdout",
     "output_type": "stream",
     "text": [
      "Best Evaluated Value  1.9624053800274257\n",
      "sk-learn value  3.0071971728247253\n"
     ]
    }
   ],
   "source": [
    "# compare your solution with scikit-learn library\n",
    "from sklearn import datasets, linear_model\n",
    "\n",
    "model = linear_model.LinearRegression(fit_intercept=True, normalize=False)\n",
    "model.fit(X_train, y_train)\n",
    "#print(model.coef_, model.intercept_)\n",
    "y_prd = X_test@model.coef_\n",
    "sk_val = evaluation_metric(y_test,y_prd)\n",
    "print('Best Evaluated Value ' ,best_val)\n",
    "print('sk-learn value ',sk_val)"
   ]
  },
  {
   "cell_type": "code",
   "execution_count": 90,
   "metadata": {},
   "outputs": [],
   "source": [
    "# Create linear regression object\n",
    "reg_model= LinearRegression()"
   ]
  },
  {
   "cell_type": "code",
   "execution_count": 91,
   "metadata": {},
   "outputs": [
    {
     "data": {
      "text/plain": [
       "LinearRegression()"
      ]
     },
     "execution_count": 91,
     "metadata": {},
     "output_type": "execute_result"
    }
   ],
   "source": [
    "# Train the model using the training sets\n",
    "reg_model.fit(X_train,y_train)"
   ]
  },
  {
   "cell_type": "code",
   "execution_count": null,
   "metadata": {},
   "outputs": [],
   "source": [
    "# Predict on test set and print evaluation metric\n",
    "# How much does it differ by from "
   ]
  }
 ],
 "metadata": {
  "kernelspec": {
   "display_name": "Python 3",
   "language": "python",
   "name": "python3"
  },
  "language_info": {
   "codemirror_mode": {
    "name": "ipython",
    "version": 3
   },
   "file_extension": ".py",
   "mimetype": "text/x-python",
   "name": "python",
   "nbconvert_exporter": "python",
   "pygments_lexer": "ipython3",
   "version": "3.8.5"
  }
 },
 "nbformat": 4,
 "nbformat_minor": 4
}
