{
 "cells": [
  {
   "cell_type": "code",
   "execution_count": 3,
   "metadata": {},
   "outputs": [],
   "source": [
    "import numpy as np\n",
    "import matplotlib.pyplot as plt\n",
    "from sklearn.preprocessing import StandardScaler\n",
    "from sklearn.linear_model import LinearRegression\n",
    "from sklearn.preprocessing import PolynomialFeatures"
   ]
  },
  {
   "cell_type": "code",
   "execution_count": 4,
   "metadata": {},
   "outputs": [],
   "source": [
    "# suppose we have received the following data from some sensor\n",
    "data_x = np.linspace(1.0, 10.0, 100)[:, np.newaxis]\n",
    "data_y = np.sin(data_x) + 0.1 * np.power(data_x, 2) + 0.5 * np.random.randn(100, 1)"
   ]
  },
  {
   "cell_type": "code",
   "execution_count": 7,
   "metadata": {},
   "outputs": [
    {
     "data": {
      "text/plain": [
       "LinearRegression()"
      ]
     },
     "execution_count": 7,
     "metadata": {},
     "output_type": "execute_result"
    }
   ],
   "source": [
    "# fit a polynomial of order 6\n",
    "poly_reg=PolynomialFeatures(degree=6)\n",
    "x_poly_reg=poly_reg.fit_transform(data_x)\n",
    "poly_reg.fit(x_poly_reg,data_y)\n",
    "model = LinearRegression()\n",
    "model.fit(x_poly_reg,data_y)"
   ]
  },
  {
   "cell_type": "code",
   "execution_count": 45,
   "metadata": {},
   "outputs": [],
   "source": [
    "def hypo(X, theta):\n",
    "    return X @ theta"
   ]
  },
  {
   "cell_type": "code",
   "execution_count": 46,
   "metadata": {},
   "outputs": [],
   "source": [
    "def cost(theta, X, y):\n",
    "    return np.mean(np.square(hypo(X, theta) - y))"
   ]
  },
  {
   "cell_type": "code",
   "execution_count": 47,
   "metadata": {},
   "outputs": [],
   "source": [
    "# Implement gradient computation and theta update \n",
    "def gradient_descent(X, y, theta, alpha):\n",
    "    iters=500\n",
    "    m = X.shape[0]\n",
    "    theta = theta.reshape(X.shape[1],1)\n",
    "    costs=[]\n",
    "    for t in range(iters):\n",
    "        y_pred = X @ theta - y\n",
    "        gradiant = (1/m) * X.T @ ((X@ theta) - y)\n",
    "        theta -= alpha * gradiant\n",
    "        costs.append(cost(theta,X,y))\n",
    "    return theta,costs"
   ]
  },
  {
   "cell_type": "code",
   "execution_count": 50,
   "metadata": {},
   "outputs": [
    {
     "name": "stderr",
     "output_type": "stream",
     "text": [
      "<ipython-input-50-c16335d9e1d3>:16: RuntimeWarning: overflow encountered in matmul\n",
      "  pred = x_sample @ theta\n",
      "<ipython-input-50-c16335d9e1d3>:18: RuntimeWarning: invalid value encountered in subtract\n",
      "  theta = theta - LR * gradiant\n"
     ]
    }
   ],
   "source": [
    "# Call stochastic gradient descent in the main loop\n",
    "    \n",
    "n = x_poly_reg.shape[0]\n",
    "LR = 0.01\n",
    "sample_size = 10\n",
    "epochs = 1000\n",
    "\n",
    "theta = np.zeros(x_poly_reg.shape[1]).reshape(x_poly_reg.shape[1],1)\n",
    "costs = []\n",
    "for i in range(epochs):\n",
    "    idx = np.random.choice(n,sample_size,replace = False)\n",
    "   \n",
    "    x_sample = x_poly_reg[idx]\n",
    "    y_sample = data_y[idx]\n",
    "   \n",
    "    pred = x_sample @ theta\n",
    "    gradiant = (2/sample_size)*(x_sample.T @ (pred - y_sample))\n",
    "    theta = theta - LR * gradiant  "
   ]
  },
  {
   "cell_type": "code",
   "execution_count": 52,
   "metadata": {},
   "outputs": [
    {
     "data": {
      "text/plain": [
       "[<matplotlib.lines.Line2D at 0x7f21e522c9d0>,\n",
       " <matplotlib.lines.Line2D at 0x7f21e522cac0>,\n",
       " <matplotlib.lines.Line2D at 0x7f21e522cb80>,\n",
       " <matplotlib.lines.Line2D at 0x7f21e522cc40>,\n",
       " <matplotlib.lines.Line2D at 0x7f21e522cd00>,\n",
       " <matplotlib.lines.Line2D at 0x7f21e522cdc0>,\n",
       " <matplotlib.lines.Line2D at 0x7f21e522ce80>]"
      ]
     },
     "execution_count": 52,
     "metadata": {},
     "output_type": "execute_result"
    },
    {
     "data": {
      "image/png": "[encoded data removed]",
      "text/plain": [
       "<Figure size 432x288 with 1 Axes>"
      ]
     },
     "metadata": {
      "needs_background": "light"
     },
     "output_type": "display_data"
    }
   ],
   "source": [
    "# predict y_hat using test_x and theta \n",
    "# plot x vs y in blue\n",
    "plt.plot(x_poly_reg,data_y,'b')\n",
    "# plot x vs y_hat in red\n"
   ]
  },
  {
   "cell_type": "code",
   "execution_count": 55,
   "metadata": {},
   "outputs": [
    {
     "data": {
      "text/plain": [
       "[<matplotlib.lines.Line2D at 0x7f21e517b460>,\n",
       " <matplotlib.lines.Line2D at 0x7f21e517b550>,\n",
       " <matplotlib.lines.Line2D at 0x7f21e517b610>,\n",
       " <matplotlib.lines.Line2D at 0x7f21e517b6d0>,\n",
       " <matplotlib.lines.Line2D at 0x7f21e517b790>,\n",
       " <matplotlib.lines.Line2D at 0x7f21e517b850>,\n",
       " <matplotlib.lines.Line2D at 0x7f21e517b910>]"
      ]
     },
     "execution_count": 55,
     "metadata": {},
     "output_type": "execute_result"
    },
    {
     "data": {
      "image/png": "[encoded data removed]",
      "text/plain": [
       "<Figure size 432x288 with 1 Axes>"
      ]
     },
     "metadata": {
      "needs_background": "light"
     },
     "output_type": "display_data"
    }
   ],
   "source": [
    "y_hat = x_poly_reg @ theta\n",
    "plt.plot(x_poly_reg,y_hat,'r')"
   ]
  },
  {
   "cell_type": "code",
   "execution_count": null,
   "metadata": {},
   "outputs": [],
   "source": []
  }
 ],
 "metadata": {
  "kernelspec": {
   "display_name": "Python 3",
   "language": "python",
   "name": "python3"
  },
  "language_info": {
   "codemirror_mode": {
    "name": "ipython",
    "version": 3
   },
   "file_extension": ".py",
   "mimetype": "text/x-python",
   "name": "python",
   "nbconvert_exporter": "python",
   "pygments_lexer": "ipython3",
   "version": "3.8.5"
  }
 },
 "nbformat": 4,
 "nbformat_minor": 4
}
